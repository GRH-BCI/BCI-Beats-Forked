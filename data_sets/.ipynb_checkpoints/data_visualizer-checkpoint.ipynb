{
 "cells": [
  {
   "cell_type": "code",
   "execution_count": 3,
   "id": "a41736f3-ab14-4bf5-a240-03a9f8cc630c",
   "metadata": {},
   "outputs": [],
   "source": [
    "# Import necessary libraries\n",
    "\n",
    "import pandas as pd\n",
    "import matplotlib.pyplot as plt\n",
    "import seaborn as sns\n",
    "import ipympl\n",
    "\n",
    "# Enable interactive plots\n",
    "%matplotlib widget\n",
    "\n",
    "# Load the data\n",
    "eeg_data = pd.read_csv('./2023-10-04 12-53-17_EEG.csv')\n",
    "markers = pd.read_csv('./2023-10-04 12-53-17_markers.csv')\n",
    "\n",
    "# Display the first few rows of each dataframe to understand their structure\n",
    "# print(eeg_data.head())\n",
    "# print(markers.head())\n",
    "\n",
    "# Assuming the EEG data has columns named 'Channel1', 'Channel2', ..., 'Channel24' and 'Time'\n",
    "channel_columns = eeg_data.columns[1:-1]  # All columns except the first last one\n",
    "time_column = eeg_data.columns[-1]  # The last column\n",
    "\n",
    "# Slice the data to plot every 100th row\n",
    "eeg_data_sliced = eeg_data.iloc[::10, :]\n",
    "\n",
    "\n",
    "# assign labels to marker columns\n",
    "markers.columns = [' ', 'Marker', 'Time']\n",
    "\n",
    "# Plot the EEG data for all channels\n",
    "plt.figure(figsize=(10, 15))\n",
    "\n",
    "for index, channel in enumerate(channel_columns):\n",
    "    if ((index+1) != 22 and (index+1) != 23):\n",
    "        plt.plot(eeg_data_sliced[time_column], eeg_data_sliced[channel], label=(index+1))\n",
    "\n",
    "# Mark events on the EEG plot\n",
    "for index, row in markers.iterrows():\n",
    "    if (len(row['Marker']) == 12): # isolate p300 markers (not 0, Trial Started, Trial Ended)\n",
    "        if (str(row['Marker'])[9] == str(row['Marker'])[11]): # check if chosen stimulus is the one in the marker (to see p300 responses)\n",
    "            plt.plot(row['Time'], 50, marker='o', color='r', linestyle='--')\n",
    "        else:\n",
    "            plt.plot(row['Time'], 50, marker='o', color='b', linestyle='--')\n",
    "\n",
    "\n",
    "\n",
    "# Set x-axis limit to start at 150\n",
    "plt.xlim(left=11500, right=11605)\n",
    "\n",
    "\n",
    "plt.xlabel('Time')\n",
    "plt.ylabel('EEG Value')\n",
    "plt.title('EEG Data from Multiple Channels with Markers')\n",
    "plt.legend(loc='upper right', bbox_to_anchor=(1.15, 1))\n",
    "plt.show()\n"
   ]
  },
  {
   "cell_type": "code",
   "execution_count": null,
   "id": "1cda22c5-31f4-4455-a4a2-c58de5cb7e84",
   "metadata": {},
   "outputs": [],
   "source": []
  },
  {
   "cell_type": "code",
   "execution_count": null,
   "id": "9f822084-9730-4ae9-aa89-c9014e22ed91",
   "metadata": {},
   "outputs": [],
   "source": []
  }
 ],
 "metadata": {
  "kernelspec": {
   "display_name": "Python 3 (ipykernel)",
   "language": "python",
   "name": "python3"
  },
  "language_info": {
   "codemirror_mode": {
    "name": "ipython",
    "version": 3
   },
   "file_extension": ".py",
   "mimetype": "text/x-python",
   "name": "python",
   "nbconvert_exporter": "python",
   "pygments_lexer": "ipython3",
   "version": "3.11.3"
  }
 },
 "nbformat": 4,
 "nbformat_minor": 5
}
